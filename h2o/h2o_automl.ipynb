{
 "cells": [
  {
   "cell_type": "code",
   "execution_count": 1,
   "metadata": {},
   "outputs": [
    {
     "name": "stdout",
     "output_type": "stream",
     "text": [
      "Checking whether there is an H2O instance running at http://localhost:54321 ..... not found.\n",
      "Attempting to start a local H2O server...\n",
      "  Java Version: openjdk version \"11.0.6\" 2020-01-14; OpenJDK Runtime Environment (build 11.0.6+10-post-Ubuntu-1ubuntu118.04.1); OpenJDK 64-Bit Server VM (build 11.0.6+10-post-Ubuntu-1ubuntu118.04.1, mixed mode, sharing)\n",
      "  Starting server from /home/alex/miniconda3/envs/h20/lib/python3.7/site-packages/h2o/backend/bin/h2o.jar\n",
      "  Ice root: /tmp/tmpw4inmdpq\n",
      "  JVM stdout: /tmp/tmpw4inmdpq/h2o_alex_started_from_python.out\n",
      "  JVM stderr: /tmp/tmpw4inmdpq/h2o_alex_started_from_python.err\n",
      "  Server is running at http://127.0.0.1:54321\n",
      "Connecting to H2O server at http://127.0.0.1:54321 ... successful.\n"
     ]
    },
    {
     "data": {
      "text/html": [
       "<div style=\"overflow:auto\"><table style=\"width:50%\"><tr><td>H2O cluster uptime:</td>\n",
       "<td>00 secs</td></tr>\n",
       "<tr><td>H2O cluster timezone:</td>\n",
       "<td>America/Los_Angeles</td></tr>\n",
       "<tr><td>H2O data parsing timezone:</td>\n",
       "<td>UTC</td></tr>\n",
       "<tr><td>H2O cluster version:</td>\n",
       "<td>3.28.0.3</td></tr>\n",
       "<tr><td>H2O cluster version age:</td>\n",
       "<td>15 days </td></tr>\n",
       "<tr><td>H2O cluster name:</td>\n",
       "<td>H2O_from_python_alex_stbqzk</td></tr>\n",
       "<tr><td>H2O cluster total nodes:</td>\n",
       "<td>1</td></tr>\n",
       "<tr><td>H2O cluster free memory:</td>\n",
       "<td>12 Gb</td></tr>\n",
       "<tr><td>H2O cluster total cores:</td>\n",
       "<td>6</td></tr>\n",
       "<tr><td>H2O cluster allowed cores:</td>\n",
       "<td>6</td></tr>\n",
       "<tr><td>H2O cluster status:</td>\n",
       "<td>accepting new members, healthy</td></tr>\n",
       "<tr><td>H2O connection url:</td>\n",
       "<td>http://127.0.0.1:54321</td></tr>\n",
       "<tr><td>H2O connection proxy:</td>\n",
       "<td>{'http': None, 'https': None}</td></tr>\n",
       "<tr><td>H2O internal security:</td>\n",
       "<td>False</td></tr>\n",
       "<tr><td>H2O API Extensions:</td>\n",
       "<td>Amazon S3, XGBoost, Algos, AutoML, Core V3, TargetEncoder, Core V4</td></tr>\n",
       "<tr><td>Python version:</td>\n",
       "<td>3.7.6 final</td></tr></table></div>"
      ],
      "text/plain": [
       "--------------------------  ------------------------------------------------------------------\n",
       "H2O cluster uptime:         00 secs\n",
       "H2O cluster timezone:       America/Los_Angeles\n",
       "H2O data parsing timezone:  UTC\n",
       "H2O cluster version:        3.28.0.3\n",
       "H2O cluster version age:    15 days\n",
       "H2O cluster name:           H2O_from_python_alex_stbqzk\n",
       "H2O cluster total nodes:    1\n",
       "H2O cluster free memory:    12 Gb\n",
       "H2O cluster total cores:    6\n",
       "H2O cluster allowed cores:  6\n",
       "H2O cluster status:         accepting new members, healthy\n",
       "H2O connection url:         http://127.0.0.1:54321\n",
       "H2O connection proxy:       {'http': None, 'https': None}\n",
       "H2O internal security:      False\n",
       "H2O API Extensions:         Amazon S3, XGBoost, Algos, AutoML, Core V3, TargetEncoder, Core V4\n",
       "Python version:             3.7.6 final\n",
       "--------------------------  ------------------------------------------------------------------"
      ]
     },
     "metadata": {},
     "output_type": "display_data"
    }
   ],
   "source": [
    "import numpy as np\n",
    "from scipy import sparse\n",
    "\n",
    "import h2o\n",
    "from h2o.automl import H2OAutoML\n",
    "h2o.init(nthreads = -1,max_mem_size = \"12G\")"
   ]
  },
  {
   "cell_type": "code",
   "execution_count": 2,
   "metadata": {},
   "outputs": [
    {
     "name": "stdout",
     "output_type": "stream",
     "text": [
      "Parse progress: |█████████████████████████████████████████████████████████| 100%\n",
      "Parse progress: |█████████████████████████████████████████████████████████| 100%\n",
      "Parse progress: |█████████████████████████████████████████████████████████| 100%\n"
     ]
    }
   ],
   "source": [
    "X_train = sparse.load_npz(\"processed_data/raw_keyword_categorical_X_train_20k_feat.npz\")\n",
    "y_train = np.load(\"processed_data/raw_keyword_categorical_y_train.npy\")\n",
    "y_train = h2o.H2OFrame(y_train)\n",
    "X_test = sparse.load_npz(\"processed_data/raw_keyword_categorical_test_processed_20k_feat.npz\")\n",
    "\n",
    "X_train = h2o.H2OFrame(X_train)\n",
    "X_test = h2o.H2OFrame(X_test)\n",
    "\n",
    "combined_train = X_train.cbind(y_train)"
   ]
  },
  {
   "cell_type": "code",
   "execution_count": 3,
   "metadata": {},
   "outputs": [],
   "source": [
    "y = \"C110000\"\n",
    "x = combined_train.columns\n",
    "x.remove(y)"
   ]
  },
  {
   "cell_type": "markdown",
   "metadata": {},
   "source": [
    "# Run AutoML"
   ]
  },
  {
   "cell_type": "code",
   "execution_count": 4,
   "metadata": {},
   "outputs": [
    {
     "name": "stdout",
     "output_type": "stream",
     "text": [
      "AutoML progress: |████████████████████████████████████████████████████████| 100%\n"
     ]
    }
   ],
   "source": [
    "aml = H2OAutoML(max_models = 10, seed = 1)\n",
    "aml.train(x = x, y = y, training_frame = combined_train)\n"
   ]
  },
  {
   "cell_type": "code",
   "execution_count": null,
   "metadata": {},
   "outputs": [],
   "source": []
  },
  {
   "cell_type": "code",
   "execution_count": 5,
   "metadata": {},
   "outputs": [],
   "source": [
    "lb = aml.leaderboard"
   ]
  },
  {
   "cell_type": "code",
   "execution_count": 6,
   "metadata": {},
   "outputs": [
    {
     "data": {
      "text/html": [
       "<table>\n",
       "<thead>\n",
       "<tr><th>model_id                                           </th><th style=\"text-align: right;\">  mean_residual_deviance</th><th style=\"text-align: right;\">    rmse</th><th style=\"text-align: right;\">     mse</th><th style=\"text-align: right;\">     mae</th><th style=\"text-align: right;\">   rmsle</th></tr>\n",
       "</thead>\n",
       "<tbody>\n",
       "<tr><td>StackedEnsemble_BestOfFamily_AutoML_20200221_092127</td><td style=\"text-align: right;\">                0.148802</td><td style=\"text-align: right;\">0.385749</td><td style=\"text-align: right;\">0.148802</td><td style=\"text-align: right;\">0.310458</td><td style=\"text-align: right;\">0.270718</td></tr>\n",
       "<tr><td>StackedEnsemble_AllModels_AutoML_20200221_092127   </td><td style=\"text-align: right;\">                0.148818</td><td style=\"text-align: right;\">0.38577 </td><td style=\"text-align: right;\">0.148818</td><td style=\"text-align: right;\">0.310552</td><td style=\"text-align: right;\">0.270701</td></tr>\n",
       "<tr><td>XGBoost_2_AutoML_20200221_092127                   </td><td style=\"text-align: right;\">                0.157919</td><td style=\"text-align: right;\">0.39739 </td><td style=\"text-align: right;\">0.157919</td><td style=\"text-align: right;\">0.337343</td><td style=\"text-align: right;\">0.278494</td></tr>\n",
       "<tr><td>GBM_4_AutoML_20200221_092127                       </td><td style=\"text-align: right;\">                0.16077 </td><td style=\"text-align: right;\">0.400961</td><td style=\"text-align: right;\">0.16077 </td><td style=\"text-align: right;\">0.348566</td><td style=\"text-align: right;\">0.281613</td></tr>\n",
       "<tr><td>GBM_3_AutoML_20200221_092127                       </td><td style=\"text-align: right;\">                0.163293</td><td style=\"text-align: right;\">0.404095</td><td style=\"text-align: right;\">0.163293</td><td style=\"text-align: right;\">0.35532 </td><td style=\"text-align: right;\">0.28386 </td></tr>\n",
       "<tr><td>XGBoost_1_AutoML_20200221_092127                   </td><td style=\"text-align: right;\">                0.164017</td><td style=\"text-align: right;\">0.40499 </td><td style=\"text-align: right;\">0.164017</td><td style=\"text-align: right;\">0.359857</td><td style=\"text-align: right;\">0.284959</td></tr>\n",
       "<tr><td>GLM_1_AutoML_20200221_092127                       </td><td style=\"text-align: right;\">                0.164835</td><td style=\"text-align: right;\">0.405998</td><td style=\"text-align: right;\">0.164835</td><td style=\"text-align: right;\">0.352993</td><td style=\"text-align: right;\">0.285862</td></tr>\n",
       "<tr><td>GBM_2_AutoML_20200221_092127                       </td><td style=\"text-align: right;\">                0.165197</td><td style=\"text-align: right;\">0.406444</td><td style=\"text-align: right;\">0.165197</td><td style=\"text-align: right;\">0.361149</td><td style=\"text-align: right;\">0.285784</td></tr>\n",
       "<tr><td>GBM_1_AutoML_20200221_092127                       </td><td style=\"text-align: right;\">                0.16637 </td><td style=\"text-align: right;\">0.407885</td><td style=\"text-align: right;\">0.16637 </td><td style=\"text-align: right;\">0.36481 </td><td style=\"text-align: right;\">0.287607</td></tr>\n",
       "<tr><td>XGBoost_3_AutoML_20200221_092127                   </td><td style=\"text-align: right;\">                0.171875</td><td style=\"text-align: right;\">0.414578</td><td style=\"text-align: right;\">0.171875</td><td style=\"text-align: right;\">0.379498</td><td style=\"text-align: right;\">0.292142</td></tr>\n",
       "</tbody>\n",
       "</table>"
      ]
     },
     "metadata": {},
     "output_type": "display_data"
    },
    {
     "data": {
      "text/plain": []
     },
     "execution_count": 6,
     "metadata": {},
     "output_type": "execute_result"
    }
   ],
   "source": [
    "lb.head()"
   ]
  },
  {
   "cell_type": "code",
   "execution_count": null,
   "metadata": {},
   "outputs": [],
   "source": []
  },
  {
   "cell_type": "code",
   "execution_count": 7,
   "metadata": {},
   "outputs": [],
   "source": [
    "# Get model ids for all models in the AutoML Leaderboard\n",
    "model_ids = list(aml.leaderboard['model_id'].as_data_frame().iloc[:,0])\n",
    "# Get the \"All Models\" Stacked Ensemble model\n",
    "se = h2o.get_model([mid for mid in model_ids if \"StackedEnsemble_AllModels\" in mid][0])\n",
    "# Get the Stacked Ensemble metalearner model\n",
    "metalearner = h2o.get_model(se.metalearner()['name'])\n"
   ]
  },
  {
   "cell_type": "code",
   "execution_count": 8,
   "metadata": {},
   "outputs": [
    {
     "data": {
      "text/plain": [
       "{'Intercept': 0.42965979246026575,\n",
       " 'XGBoost_2_AutoML_20200221_092127': 0.13980509143405623,\n",
       " 'GBM_4_AutoML_20200221_092127': 0.036119599854358475,\n",
       " 'GBM_3_AutoML_20200221_092127': 0.0,\n",
       " 'XGBoost_1_AutoML_20200221_092127': 0.0034155997464314753,\n",
       " 'GLM_1_AutoML_20200221_092127': 0.1381498848377734,\n",
       " 'GBM_2_AutoML_20200221_092127': 0.0,\n",
       " 'GBM_1_AutoML_20200221_092127': 0.011880218602186476,\n",
       " 'XGBoost_3_AutoML_20200221_092127': 0.0,\n",
       " 'DRF_1_AutoML_20200221_092127': 0.0,\n",
       " 'GBM_5_AutoML_20200221_092127': 0.0}"
      ]
     },
     "execution_count": 8,
     "metadata": {},
     "output_type": "execute_result"
    }
   ],
   "source": [
    "metalearner.coef_norm()"
   ]
  },
  {
   "cell_type": "code",
   "execution_count": 9,
   "metadata": {},
   "outputs": [
    {
     "data": {
      "image/png": "[encoded data removed]",
      "text/plain": [
       "<Figure size 1008x720 with 1 Axes>"
      ]
     },
     "metadata": {
      "needs_background": "light"
     },
     "output_type": "display_data"
    }
   ],
   "source": [
    "%matplotlib inline\n",
    "metalearner.std_coef_plot()"
   ]
  },
  {
   "cell_type": "code",
   "execution_count": 10,
   "metadata": {},
   "outputs": [
    {
     "data": {
      "text/plain": [
       "'/home/alex/Documents/mlbase/disaster_tweet_kaggle/saved_models/automl_001_bin/StackedEnsemble_BestOfFamily_AutoML_20200221_092127'"
      ]
     },
     "execution_count": 10,
     "metadata": {},
     "output_type": "execute_result"
    }
   ],
   "source": [
    "h2o.save_model(aml.leader, path = \"./saved_models/automl_001_bin\")"
   ]
  },
  {
   "cell_type": "code",
   "execution_count": 11,
   "metadata": {},
   "outputs": [
    {
     "name": "stdout",
     "output_type": "stream",
     "text": [
      "H2O session _sid_97a5 closed.\n"
     ]
    }
   ],
   "source": [
    "# Shut down and release RAM\n",
    "h2o.cluster().shutdown()"
   ]
  },
  {
   "cell_type": "code",
   "execution_count": null,
   "metadata": {},
   "outputs": [],
   "source": []
  },
  {
   "cell_type": "code",
   "execution_count": null,
   "metadata": {},
   "outputs": [],
   "source": []
  },
  {
   "cell_type": "code",
   "execution_count": null,
   "metadata": {},
   "outputs": [],
   "source": []
  },
  {
   "cell_type": "code",
   "execution_count": null,
   "metadata": {},
   "outputs": [],
   "source": []
  }
 ],
 "metadata": {
  "kernelspec": {
   "display_name": "Python 3",
   "language": "python",
   "name": "python3"
  },
  "language_info": {
   "codemirror_mode": {
    "name": "ipython",
    "version": 3
   },
   "file_extension": ".py",
   "mimetype": "text/x-python",
   "name": "python",
   "nbconvert_exporter": "python",
   "pygments_lexer": "ipython3",
   "version": "3.7.6"
  }
 },
 "nbformat": 4,
 "nbformat_minor": 4
}
